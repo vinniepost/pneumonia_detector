{
 "cells": [
  {
   "cell_type": "code",
   "execution_count": 2,
   "metadata": {},
   "outputs": [
    {
     "name": "stderr",
     "output_type": "stream",
     "text": [
      "2024-06-15 12:11:59.150077: I tensorflow/core/util/port.cc:113] oneDNN custom operations are on. You may see slightly different numerical results due to floating-point round-off errors from different computation orders. To turn them off, set the environment variable `TF_ENABLE_ONEDNN_OPTS=0`.\n",
      "2024-06-15 12:11:59.153680: I external/local_tsl/tsl/cuda/cudart_stub.cc:32] Could not find cuda drivers on your machine, GPU will not be used.\n",
      "2024-06-15 12:11:59.158386: I external/local_tsl/tsl/cuda/cudart_stub.cc:32] Could not find cuda drivers on your machine, GPU will not be used.\n",
      "2024-06-15 12:11:59.217921: I tensorflow/core/platform/cpu_feature_guard.cc:210] This TensorFlow binary is optimized to use available CPU instructions in performance-critical operations.\n",
      "To enable the following instructions: AVX2 AVX512F AVX512_VNNI FMA, in other operations, rebuild TensorFlow with the appropriate compiler flags.\n",
      "2024-06-15 12:12:00.427323: W tensorflow/compiler/tf2tensorrt/utils/py_utils.cc:38] TF-TRT Warning: Could not find TensorRT\n"
     ]
    }
   ],
   "source": [
    "# Imports\n",
    "import pandas as pd\n",
    "import numpy as np\n",
    "import matplotlib.pyplot as plt\n",
    "import seaborn as sns\n",
    "import os\n",
    "import sys\n",
    "import warnings\n",
    "import tensorflow as tf\n",
    "warnings.filterwarnings('ignore')\n"
   ]
  },
  {
   "cell_type": "code",
   "execution_count": null,
   "metadata": {},
   "outputs": [],
   "source": [
    "# Load an image from the data folder to display in the notebook\n",
    "from IPython.display import Image\n",
    "Image(filename='data/test/NORMAL/IM-0001-0001.jpeg')"
   ]
  },
  {
   "cell_type": "code",
   "execution_count": null,
   "metadata": {},
   "outputs": [],
   "source": [
    "# Make a cnn to predict if a x-ray of the lungs has pneumonia or not\n",
    "# Load the data\n",
    "train_dir = 'data/train'\n",
    "test_dir = 'data/test'\n",
    "val_dir = 'data/val'\n",
    "\n",
    "# Check the number of images in each folder\n",
    "print('Number of images in training set:', len(os.listdir(train_dir+\"/NORMAL\")) + len(os.listdir(train_dir+\"/PNEUMONIA\")))\n",
    "print('Number of images in test set:', len(os.listdir(test_dir+\"/NORMAL\")) + len(os.listdir(test_dir+\"/PNEUMONIA\")))\n",
    "print('Number of images in validation set:', len(os.listdir(val_dir+\"/NORMAL\")) + len(os.listdir(val_dir+\"/PNEUMONIA\")))\n",
    "\n",
    "# Load the data\n",
    "from tensorflow.keras.preprocessing.image import ImageDataGenerator\n",
    "\n",
    "# Create a data generator\n",
    "train_datagen = ImageDataGenerator(rescale=1./255, shear_range=0.2, zoom_range=0.2, horizontal_flip=True)\n",
    "test_datagen = ImageDataGenerator(rescale=1./255)\n",
    "\n",
    "# Load the data\n",
    "train_data = train_datagen.flow_from_directory(train_dir, target_size=(64, 64), batch_size=32, class_mode='binary')\n",
    "test_data = test_datagen.flow_from_directory(test_dir, target_size=(64, 64), batch_size=32, class_mode='binary')\n",
    "\n",
    "# Create a cnn\n",
    "from tensorflow.keras.models import Sequential\n",
    "from tensorflow.keras.layers import Conv2D, MaxPooling2D, Flatten, Dense\n",
    "\n",
    "# Create a cnn\n",
    "cnn = Sequential()\n",
    "\n",
    "# Add the first convolutional layer\n",
    "cnn.add(Conv2D(filters=32, kernel_size=3, activation='relu', input_shape=[64, 64, 3]))\n",
    "\n",
    "# Add the first pooling layer\n",
    "cnn.add(MaxPooling2D(pool_size=2, strides=2))\n",
    "\n",
    "# Add the second convolutional layer\n",
    "cnn.add(Conv2D(filters=32, kernel_size=3, activation='relu'))\n",
    "\n",
    "\n",
    "# Add the second pooling layer\n",
    "cnn.add(MaxPooling2D(pool_size=2, strides=2))\n",
    "\n",
    "# Add the flattening layer\n",
    "cnn.add(Flatten())\n",
    "\n",
    "# Add the fully connected layer\n",
    "cnn.add(Dense(units=128, activation='relu'))\n",
    "\n",
    "# Add the output layer\n",
    "cnn.add(Dense(units=1, activation='sigmoid'))\n",
    "\n",
    "# Compile the cnn\n",
    "cnn.compile(optimizer='adam', loss='binary_crossentropy', metrics=['accuracy'])\n",
    "\n",
    "# Train the cnn\n",
    "cnn.fit(train_data, validation_data=test_data, epochs=25)\n",
    "\n",
    "# Save the model\n",
    "cnn.save('model/pneumonia_cnn.h5')\n",
    "\n"
   ]
  },
  {
   "cell_type": "code",
   "execution_count": null,
   "metadata": {},
   "outputs": [],
   "source": [
    "# Predict if a person has pneumonia or not\n",
    "\n",
    "# Load the model\n",
    "from tensorflow.keras.models import load_model\n",
    "cnn = load_model('model/pneumonia_cnn.h5')\n",
    "\n",
    "from tensorflow.keras.preprocessing import image\n",
    "\n",
    "def predict_pneumonia(img_path):\n",
    "    img = image.load_img(img_path, target_size=(64, 64))\n",
    "    img = image.img_to_array(img)\n",
    "    img = np.expand_dims(img, axis=0)\n",
    "    prediction = cnn.predict(img)\n",
    "    if prediction == 1:\n",
    "        return 'Pneumonia'\n",
    "    else:\n",
    "        return 'Normal'\n",
    "\n",
    "\n",
    "# Show a plot where you see both images and there classification of all the images in the validation set\n",
    "import matplotlib.pyplot as plt\n",
    "import matplotlib.image as mpimg\n",
    "\n",
    "amount_of_val_images = len(os.listdir(val_dir + '/NORMAL')) + len(os.listdir(val_dir + '/PNEUMONIA'))\n",
    "\n",
    "for i in range(amount_of_val_images):\n",
    "    img_path = val_dir + '/NORMAL/' + os.listdir(val_dir + '/NORMAL')[i]\n",
    "    img = mpimg.imread(img_path)\n",
    "    plt.imshow(img)\n",
    "    plt.axis('off')\n",
    "    # show the prediction\n",
    "    prediction = predict_pneumonia(img_path)\n",
    "    plt.xlabel(prediction) \n",
    "    plt.title(f'Predicted: {prediction}, actual: Normal')\n",
    "   \n",
    "    plt.show()\n",
    "\n",
    "    img_path = val_dir + '/PNEUMONIA/' + os.listdir(val_dir + '/PNEUMONIA')[i]\n",
    "    img = mpimg.imread(img_path)\n",
    "    plt.imshow(img)\n",
    "    plt.axis('off')\n",
    "    prediction = predict_pneumonia(img_path)\n",
    "    plt.xlabel(prediction) \n",
    "    plt.title(f'Predicted: {prediction}, actual: Pneumonia')\n",
    "    plt.xlabel(predict_pneumonia(img_path))\n",
    "    plt.show()\n",
    "    \n"
   ]
  },
  {
   "cell_type": "code",
   "execution_count": 38,
   "metadata": {},
   "outputs": [
    {
     "name": "stdout",
     "output_type": "stream",
     "text": [
      "(1416, 1776)\n"
     ]
    }
   ],
   "source": [
    "# see what the dimentions of the images are\n",
    "img = mpimg.imread(val_dir + '/NORMAL/' + os.listdir(val_dir + '/NORMAL')[0])\n",
    "print(img.shape)\n"
   ]
  },
  {
   "cell_type": "code",
   "execution_count": 75,
   "metadata": {},
   "outputs": [
    {
     "data": {
      "image/png": "[encoded data removed]",
      "text/plain": [
       "<Figure size 640x480 with 1 Axes>"
      ]
     },
     "metadata": {},
     "output_type": "display_data"
    }
   ],
   "source": [
    "# load in the images and show me the first image together with its lable\n",
    "from tensorflow.keras.preprocessing import image\n",
    "img = image.load_img(val_dir + '/NORMAL/' + os.listdir(val_dir + '/NORMAL')[0], target_size=(32, 32))\n",
    "img = image.img_to_array(img)\n",
    "plt.imshow(img/255)\n",
    "plt.axis('off')\n",
    "plt.show()\n"
   ]
  },
  {
   "cell_type": "code",
   "execution_count": null,
   "metadata": {},
   "outputs": [],
   "source": []
  }
 ],
 "metadata": {
  "kernelspec": {
   "display_name": "base",
   "language": "python",
   "name": "python3"
  },
  "language_info": {
   "codemirror_mode": {
    "name": "ipython",
    "version": 3
   },
   "file_extension": ".py",
   "mimetype": "text/x-python",
   "name": "python",
   "nbconvert_exporter": "python",
   "pygments_lexer": "ipython3",
   "version": "3.11.7"
  }
 },
 "nbformat": 4,
 "nbformat_minor": 2
}
